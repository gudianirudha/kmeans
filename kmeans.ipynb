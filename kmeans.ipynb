{
 "cells": [
  {
   "cell_type": "code",
   "execution_count": 1,
   "metadata": {},
   "outputs": [],
   "source": [
    "import pandas as pd\n",
    "import numpy as np\n",
    "import matplotlib.pyplot as plt\n",
    "from sklearn.cluster import KMeans"
   ]
  },
  {
   "cell_type": "code",
   "execution_count": 2,
   "metadata": {},
   "outputs": [
    {
     "name": "stdout",
     "output_type": "stream",
     "text": [
      "[[-1.7686014  -0.25846224]\n",
      " [-1.70493871 -1.3878701 ]\n",
      " [-1.64551704 -1.33730942]\n",
      " [-1.24560079 -0.72249754]\n",
      " [-0.55023438 -0.38578886]\n",
      " [-0.49327146 -0.59667065]\n",
      " [-0.48160717 -0.1851987 ]\n",
      " [-0.06091028 -0.26457693]\n",
      " [-0.06410936 -1.08009393]\n",
      " [-1.59145641 -0.38448284]\n",
      " [-0.93657438 -1.96490401]\n",
      " [-1.87009729 -0.7794884 ]\n",
      " [-1.59465694 -1.57362332]\n",
      " [-0.41581897 -0.15106535]\n",
      " [-0.9717473  -0.23339627]\n",
      " [-0.39688241 -0.11809695]\n",
      " [-0.802019   -1.00319016]\n",
      " [-1.18792692 -1.2073442 ]\n",
      " [-1.66701219 -1.17647667]\n",
      " [-0.45106022 -1.86252143]\n",
      " [-1.82243325 -0.59982642]\n",
      " [-0.88602154 -0.99325964]\n",
      " [-1.41725847 -1.59040444]\n",
      " [-0.94453258 -1.33596952]\n",
      " [-1.72467936 -0.59573126]\n",
      " [-0.95996845 -0.09623446]\n",
      " [-0.04139587 -1.15926705]\n",
      " [-1.09691674 -0.17922819]\n",
      " [-1.71399602 -1.22330515]\n",
      " [-1.58045204 -0.11669431]\n",
      " [-1.98350389 -1.52250636]\n",
      " [-0.73326274 -0.01057131]\n",
      " [-0.28427347 -0.32121273]\n",
      " [-1.52665064 -0.12139525]\n",
      " [-0.1028363  -0.03019163]\n",
      " [-1.77304014 -0.46401301]\n",
      " [-1.84592791 -1.00044379]\n",
      " [-1.52808928 -0.14386294]\n",
      " [-1.52639962 -1.92976397]\n",
      " [-1.00914688 -0.60170343]\n",
      " [-0.83242507 -0.66347816]\n",
      " [-0.52905071 -0.51803469]\n",
      " [-0.47297832 -1.88428663]\n",
      " [-0.68468727 -0.95533199]\n",
      " [-1.43039705 -1.57317555]\n",
      " [-1.18740563 -0.06356611]\n",
      " [-1.60416984 -1.2913074 ]\n",
      " [-0.37969987 -1.35754069]\n",
      " [-1.12544026 -0.34995741]\n",
      " [-1.19810533 -1.82207566]\n",
      " [-1.47852282 -1.10491946]\n",
      " [-0.67564021 -0.15871634]\n",
      " [-0.56923248 -0.37244547]\n",
      " [-1.12789078 -1.72397131]\n",
      " [-1.75413156 -1.80122376]\n",
      " [-1.2107639  -1.64314929]\n",
      " [-0.60343676 -0.99014474]\n",
      " [-1.59806683 -1.18624504]\n",
      " [-1.16149372 -0.0315342 ]\n",
      " [-1.12679708 -0.24274646]\n",
      " [-1.63453368 -1.51166904]\n",
      " [-1.08393714 -1.92811237]\n",
      " [-1.14180655 -0.82313012]\n",
      " [-0.48095541 -1.98753742]\n",
      " [-0.49984681 -0.99591955]\n",
      " [-1.81912097 -0.98692397]\n",
      " [-1.5534173  -1.61595871]\n",
      " [-0.68222156 -0.57855027]\n",
      " [-1.17598957 -0.17078704]\n",
      " [-1.30727854 -0.81383206]\n",
      " [-1.74377106 -1.47029689]\n",
      " [-1.3452775  -0.46958385]\n",
      " [-1.4908841  -1.76285008]\n",
      " [-1.33732101 -1.32615476]\n",
      " [-1.27631729 -0.61364482]\n",
      " [-0.04452422 -0.19763011]\n",
      " [-1.61689506 -0.49082341]\n",
      " [-1.0415517  -1.90080664]\n",
      " [-0.33803306 -0.22570383]\n",
      " [-1.81898963 -0.30057372]\n",
      " [-0.47871218 -0.86914019]\n",
      " [-1.85502801 -0.72756513]\n",
      " [-0.97522652 -0.99178571]\n",
      " [-1.18097517 -0.9168713 ]\n",
      " [-1.10669551 -0.2040099 ]\n",
      " [-1.14885507 -0.69735007]\n",
      " [-0.82458601 -1.92880788]\n",
      " [-0.77543718 -0.51282252]\n",
      " [-1.14913107 -1.7559552 ]\n",
      " [-1.30479083 -0.18300422]\n",
      " [-1.25813733 -1.27148142]\n",
      " [-0.20632943 -1.67839415]\n",
      " [-0.70795589 -0.72458361]\n",
      " [-1.94351612 -1.63937979]\n",
      " [-0.9369365  -0.17713602]\n",
      " [-1.69969111 -0.48655449]\n",
      " [-0.65018003 -1.4463072 ]\n",
      " [-1.23634209 -1.7665078 ]\n",
      " [-1.89738191 -1.25560855]\n",
      " [-0.04620342 -0.16765599]]\n",
      "[[1.94356905 1.39161622]\n",
      " [2.71994777 2.32344127]\n",
      " [1.00130074 1.84081657]\n",
      " [1.1509387  1.70518009]\n",
      " [2.09807834 2.11056382]\n",
      " [1.00259688 1.53024461]\n",
      " [2.7788823  1.83520049]\n",
      " [1.46050318 1.30444012]\n",
      " [2.53718633 2.69700151]\n",
      " [1.53178023 2.41891391]\n",
      " [2.13887426 1.24129216]\n",
      " [2.60892576 1.93288224]\n",
      " [2.14772788 1.60431806]\n",
      " [2.59988608 2.98262374]\n",
      " [2.56639198 1.05399845]\n",
      " [1.71083166 1.67887379]\n",
      " [1.94985728 2.3079591 ]\n",
      " [1.15424199 2.79838819]\n",
      " [1.85252888 1.43138964]\n",
      " [1.96925454 1.6509913 ]\n",
      " [1.66793869 1.92383069]\n",
      " [1.2537852  1.34090268]\n",
      " [2.41888127 1.63511887]\n",
      " [1.19426627 1.28404533]\n",
      " [1.54400696 2.07004465]\n",
      " [1.37341149 2.94434825]\n",
      " [2.91785743 2.07200537]\n",
      " [1.67772198 2.70746228]\n",
      " [1.60509919 2.30149163]\n",
      " [1.3683079  1.5669462 ]\n",
      " [2.89935396 2.33961164]\n",
      " [2.62182494 2.56161221]\n",
      " [1.70767758 2.66194184]\n",
      " [2.45791161 1.77832801]\n",
      " [2.690848   2.82695891]\n",
      " [1.26678345 1.12866263]\n",
      " [2.48889665 1.30276149]\n",
      " [2.60359791 2.18016253]\n",
      " [2.1278726  1.10661717]\n",
      " [1.91814849 2.89216408]\n",
      " [1.10529748 2.98620746]\n",
      " [1.24542957 2.85461031]\n",
      " [2.04907412 1.85265897]\n",
      " [2.79675523 2.48455133]\n",
      " [1.51991587 1.47626442]\n",
      " [2.30156544 1.40830997]\n",
      " [2.20283937 2.62033812]\n",
      " [2.60765586 2.75059936]\n",
      " [2.32773642 2.8295223 ]\n",
      " [1.18893478 2.31149857]]\n"
     ]
    }
   ],
   "source": [
    "x = -2 * np.random.rand(100,2) #making 100 datasets\n",
    "x1 = 1+ 2 * np.random.rand(50,2)\n",
    "print(x)\n",
    "print(x1)"
   ]
  },
  {
   "cell_type": "code",
   "execution_count": 3,
   "metadata": {},
   "outputs": [
    {
     "data": {
      "text/plain": [
       "<matplotlib.collections.PathCollection at 0x1fe3d462be0>"
      ]
     },
     "execution_count": 3,
     "metadata": {},
     "output_type": "execute_result"
    },
    {
     "data": {
      "image/png": "[encoded data removed]",
      "text/plain": [
       "<Figure size 432x288 with 1 Axes>"
      ]
     },
     "metadata": {
      "needs_background": "light"
     },
     "output_type": "display_data"
    }
   ],
   "source": [
    "x[50:100, :]=x1\n",
    "# print(len(x),len(x1))\n",
    "plt.scatter(x[ : ,0],x[ : ,1],s=50,c='brown') #o represnts 1 column 1 represents 2nd column #s is size c is color"
   ]
  },
  {
   "cell_type": "code",
   "execution_count": 4,
   "metadata": {},
   "outputs": [
    {
     "data": {
      "text/plain": [
       "KMeans(algorithm='auto', copy_x=True, init='k-means++', max_iter=300,\n",
       "    n_clusters=2, n_init=10, n_jobs=None, precompute_distances='auto',\n",
       "    random_state=None, tol=0.0001, verbose=0)"
      ]
     },
     "execution_count": 4,
     "metadata": {},
     "output_type": "execute_result"
    }
   ],
   "source": [
    "Kmean = KMeans(n_clusters=2)\n",
    "Kmean.fit(x)"
   ]
  },
  {
   "cell_type": "code",
   "execution_count": 5,
   "metadata": {},
   "outputs": [
    {
     "data": {
      "text/plain": [
       "array([[-1.07690374, -0.82374794],\n",
       "       [ 1.96145399,  2.04079425]])"
      ]
     },
     "execution_count": 5,
     "metadata": {},
     "output_type": "execute_result"
    }
   ],
   "source": [
    "Kmean.cluster_centers_ #it gives centriods"
   ]
  },
  {
   "cell_type": "code",
   "execution_count": 6,
   "metadata": {},
   "outputs": [
    {
     "data": {
      "text/plain": [
       "<matplotlib.collections.PathCollection at 0x1fe3d493ef0>"
      ]
     },
     "execution_count": 6,
     "metadata": {},
     "output_type": "execute_result"
    },
    {
     "data": {
      "image/png": "[encoded data removed]",
      "text/plain": [
       "<Figure size 432x288 with 1 Axes>"
      ]
     },
     "metadata": {
      "needs_background": "light"
     },
     "output_type": "display_data"
    }
   ],
   "source": [
    "plt.scatter(x[ : ,0],x[ : ,1],s=50,c='b')\n",
    "plt.scatter(-1.00382355, -1.00415177,s=200,c='g')\n",
    "plt.scatter(1.96204944,  1.94267775,s=200,c='r')\n"
   ]
  },
  {
   "cell_type": "code",
   "execution_count": 7,
   "metadata": {},
   "outputs": [
    {
     "data": {
      "text/plain": [
       "array([0, 0, 0, 0, 0, 0, 0, 0, 0, 0, 0, 0, 0, 0, 0, 0, 0, 0, 0, 0, 0, 0,\n",
       "       0, 0, 0, 0, 0, 0, 0, 0, 0, 0, 0, 0, 0, 0, 0, 0, 0, 0, 0, 0, 0, 0,\n",
       "       0, 0, 0, 0, 0, 0, 1, 1, 1, 1, 1, 1, 1, 1, 1, 1, 1, 1, 1, 1, 1, 1,\n",
       "       1, 1, 1, 1, 1, 1, 1, 1, 1, 1, 1, 1, 1, 1, 1, 1, 1, 1, 1, 1, 1, 1,\n",
       "       1, 1, 1, 1, 1, 1, 1, 1, 1, 1, 1, 1])"
      ]
     },
     "execution_count": 7,
     "metadata": {},
     "output_type": "execute_result"
    }
   ],
   "source": [
    "Kmean.labels_"
   ]
  },
  {
   "cell_type": "code",
   "execution_count": 8,
   "metadata": {},
   "outputs": [
    {
     "name": "stdout",
     "output_type": "stream",
     "text": [
      "[-2. -2.]\n",
      "[[-2. -2.]]\n"
     ]
    },
    {
     "data": {
      "text/plain": [
       "array([0])"
      ]
     },
     "execution_count": 8,
     "metadata": {},
     "output_type": "execute_result"
    }
   ],
   "source": [
    "sample=np.array([-2.0,-2.0])\n",
    "print(sample)\n",
    "test=sample.reshape(1,-1)\n",
    "print(test)\n",
    "Kmean.predict(test)"
   ]
  },
  {
   "cell_type": "code",
   "execution_count": 9,
   "metadata": {},
   "outputs": [
    {
     "data": {
      "text/plain": [
       "<matplotlib.collections.PathCollection at 0x1fe3dcc7a90>"
      ]
     },
     "execution_count": 9,
     "metadata": {},
     "output_type": "execute_result"
    },
    {
     "data": {
      "image/png": "[encoded data removed]",
      "text/plain": [
       "<Figure size 432x288 with 1 Axes>"
      ]
     },
     "metadata": {
      "needs_background": "light"
     },
     "output_type": "display_data"
    }
   ],
   "source": [
    "plt.scatter(x[ : ,0],x[ : ,1],s=50,c='b')\n",
    "plt.scatter(-1.00382355, -1.00415177,s=200,c='g')\n",
    "plt.scatter(1.96204944,  1.94267775,s=200,c='r')\n",
    "plt.scatter(-2.0,-2.0,s=100,c='k')"
   ]
  },
  {
   "cell_type": "code",
   "execution_count": 10,
   "metadata": {},
   "outputs": [],
   "source": [
    "from sklearn.neighbors import KNeighborsClassifier"
   ]
  },
  {
   "cell_type": "code",
   "execution_count": null,
   "metadata": {},
   "outputs": [],
   "source": []
  }
 ],
 "metadata": {
  "kernelspec": {
   "display_name": "Python 3",
   "language": "python",
   "name": "python3"
  },
  "language_info": {
   "codemirror_mode": {
    "name": "ipython",
    "version": 3
   },
   "file_extension": ".py",
   "mimetype": "text/x-python",
   "name": "python",
   "nbconvert_exporter": "python",
   "pygments_lexer": "ipython3",
   "version": "3.7.3"
  }
 },
 "nbformat": 4,
 "nbformat_minor": 2
}
